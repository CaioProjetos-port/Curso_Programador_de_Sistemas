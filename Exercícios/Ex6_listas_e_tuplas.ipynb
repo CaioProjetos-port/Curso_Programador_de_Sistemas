{
 "cells": [
  {
   "cell_type": "markdown",
   "metadata": {},
   "source": [
    "# Exercícios com Listas e Tuplas\n",
    "\n",
    "phyton"
   ]
  },
  {
   "cell_type": "markdown",
   "metadata": {},
   "source": [
    "**Exercício 1: Intercalação de Listas**  \n",
    "Dadas duas listas de inteiros lista1 e lista2 de mesmo comprimento,  \n",
    "crie uma nova lista que contenha os elementos dessas duas listas intercalados.  \n",
    "\n",
    "Por exemplo, se lista1 = [1, 3, 5] e lista2 = [2, 4, 6], a nova lista deve ser [1, 2, 3, 4, 5, 6]"
   ]
  },
  {
   "cell_type": "code",
   "execution_count": 14,
   "metadata": {},
   "outputs": [
    {
     "name": "stdout",
     "output_type": "stream",
     "text": [
      "['1', '10', '2', '9', '3', '8', '4', '7']\n"
     ]
    }
   ],
   "source": [
    "lista1 = input(\"lista 1: \").split(\", \")\n",
    "lista2 = input(\"lista 2: \").split(\", \")\n",
    "lista3 = []\n",
    "\n",
    "for i in range(len(lista1)):\n",
    "    lista3.append(lista1[i])\n",
    "    lista3.append(lista2[i])\n",
    "print(lista3)"
   ]
  },
  {
   "cell_type": "markdown",
   "metadata": {},
   "source": [
    "**Exercício 2: Média de Valores em uma Lista**  \n",
    "Escreva uma função que receba uma lista de tuplas, onde cada tupla contém dois valores inteiros.  \n",
    "A função deve retornar uma nova lista contendo a média aritmética dos valores de cada tupla.  \n",
    "\n",
    "Por exemplo, se a lista for [(1, 2), (3, 4), (5, 6)], a função deve retornar [1.5, 3.5, 5.5]."
   ]
  },
  {
   "cell_type": "code",
   "execution_count": 8,
   "metadata": {},
   "outputs": [
    {
     "name": "stdout",
     "output_type": "stream",
     "text": [
      "media dos numeros: [1.5, 2.5, 3.5]\n"
     ]
    }
   ],
   "source": [
    "lista = []\n",
    "media = []\n",
    "\n",
    "while True:\n",
    "    try:\n",
    "        entrada = input(\"digite um numero para buscar: \")\n",
    "        if entrada == \"\": break\n",
    "        lista.append(tuple(entrada.split(\", \")))\n",
    "    except:\n",
    "        print(\"digite uma lista valida\")\n",
    "\n",
    "for i, tupla in enumerate(lista, start=1):\n",
    "    numero = 0\n",
    "    for num in tupla:\n",
    "        numero += int(num)\n",
    "    media.append(numero / len(tupla))\n",
    "\n",
    "print(f\"media dos numeros: {media}\")\n"
   ]
  },
  {
   "cell_type": "markdown",
   "metadata": {},
   "source": [
    "**Exercício 3: Remoção de Duplicatas**  \n",
    "Crie uma função que receba uma lista de inteiros e retorne uma nova lista com os elementos  \n",
    "únicos, preservando a ordem original.  \n",
    "\n",
    "Por exemplo, se a lista for [1, 2, 2, 3, 4, 4, 5], a função deve retornar [1, 2, 3, 4, 5].\n",
    "\n"
   ]
  },
  {
   "cell_type": "code",
   "execution_count": 21,
   "metadata": {},
   "outputs": [
    {
     "name": "stdout",
     "output_type": "stream",
     "text": [
      "['2', '5', '6']\n"
     ]
    }
   ],
   "source": [
    "lista = input().split(\", \")\n",
    "lista_nova = []\n",
    "\n",
    "for i in lista:\n",
    "    if i in lista and i not in lista_nova:\n",
    "        lista_nova.append(i)\n",
    "\n",
    "print(lista_nova)"
   ]
  },
  {
   "cell_type": "markdown",
   "metadata": {},
   "source": [
    "**Exercício 4: Contagem de Frequências**\n",
    "Dada uma lista de strings, escreva um programa que conte a frequência de cada string  \n",
    "na lista e armazene o resultado em um dicionário.  \n",
    "\n",
    "Por exemplo, se a lista for ['apple', 'banana', 'apple', 'orange', 'banana', 'apple'],  \n",
    "o dicionário resultante deve ser {'apple': 3, 'banana': 2, 'orange': 1}."
   ]
  },
  {
   "cell_type": "code",
   "execution_count": null,
   "metadata": {},
   "outputs": [],
   "source": []
  },
  {
   "cell_type": "markdown",
   "metadata": {},
   "source": [
    "**Exercício 5: Ordenação por Segunda Tupla**\n",
    "Escreva uma função que receba uma lista de tuplas, onde cada tupla contém dois valores inteiros,  \n",
    "e retorne uma nova lista de tuplas ordenada pelo segundo valor de cada tupla.  \n",
    "\n",
    "Por exemplo, se a lista for [(1, 3), (2, 2), (3, 1)], a lista ordenada deve ser [(3, 1), (2, 2), (1, 3)].\n",
    "\n"
   ]
  },
  {
   "cell_type": "code",
   "execution_count": null,
   "metadata": {},
   "outputs": [],
   "source": []
  }
 ],
 "metadata": {
  "kernelspec": {
   "display_name": "Python 3",
   "language": "python",
   "name": "python3"
  },
  "language_info": {
   "codemirror_mode": {
    "name": "ipython",
    "version": 3
   },
   "file_extension": ".py",
   "mimetype": "text/x-python",
   "name": "python",
   "nbconvert_exporter": "python",
   "pygments_lexer": "ipython3",
   "version": "3.12.4"
  }
 },
 "nbformat": 4,
 "nbformat_minor": 2
}
