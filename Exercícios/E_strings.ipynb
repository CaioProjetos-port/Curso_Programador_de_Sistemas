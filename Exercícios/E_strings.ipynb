{
 "cells": [
  {
   "cell_type": "markdown",
   "metadata": {},
   "source": [
    "# Exercícios de Stings \n",
    "python"
   ]
  },
  {
   "cell_type": "markdown",
   "metadata": {},
   "source": [
    "## Problema 1\n",
    "Escreva um programa que conta o número de vogais e consoantes em uma string.\n"
   ]
  },
  {
   "cell_type": "code",
   "execution_count": 4,
   "metadata": {},
   "outputs": [
    {
     "name": "stdout",
     "output_type": "stream",
     "text": [
      "frase: água é legal\n",
      "A frase tem 6 vogais e 4 consoantes.\n"
     ]
    }
   ],
   "source": [
    "string = input()\n",
    "string_mod = string.replace(\" \", \"\")\n",
    "string_mod = string_mod.upper()\n",
    "vogais = ['A','E','I','O','U','Á','À','Ã','É','Í','Ó','Õ']\n",
    "Qnt_vog = Qnt_con = 0\n",
    "for letra in string_mod:\n",
    "    if letra in vogais:\n",
    "        Qnt_vog += 1\n",
    "    else:\n",
    "        Qnt_con += 1\n",
    "print(f\"frase: {string}\")\n",
    "print(f\"A frase tem {Qnt_vog} vogais e {Qnt_con} consoantes.\")"
   ]
  }
 ],
 "metadata": {
  "kernelspec": {
   "display_name": "Python 3",
   "language": "python",
   "name": "python3"
  },
  "language_info": {
   "codemirror_mode": {
    "name": "ipython",
    "version": 3
   },
   "file_extension": ".py",
   "mimetype": "text/x-python",
   "name": "python",
   "nbconvert_exporter": "python",
   "pygments_lexer": "ipython3",
   "version": "3.12.3"
  }
 },
 "nbformat": 4,
 "nbformat_minor": 2
}
