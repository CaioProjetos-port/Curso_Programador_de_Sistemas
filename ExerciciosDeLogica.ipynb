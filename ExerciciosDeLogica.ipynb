{
  "cells": [
    {
      "cell_type": "markdown",
      "metadata": {
        "colab_type": "text",
        "id": "view-in-github"
      },
      "source": [
        "<a href=\"https://colab.research.google.com/github/osmozeInc/ProgramadorDeSistemas/blob/main/ExerciciosDeLogica.ipynb\" target=\"_parent\"><img src=\"https://colab.research.google.com/assets/colab-badge.svg\" alt=\"Open In Colab\"/></a>"
      ]
    },
    {
      "cell_type": "markdown",
      "metadata": {
        "id": "VXHEbAqhFqur"
      },
      "source": [
        "# Exercicíos de lógica com phyton"
      ]
    },
    {
      "cell_type": "markdown",
      "metadata": {},
      "source": [
        "## problema 1\n",
        "Faça um algoritmo para ler dois números e imprimir a soma dos números lidos:"
      ]
    },
    {
      "cell_type": "code",
      "execution_count": 49,
      "metadata": {
        "colab": {
          "base_uri": "https://localhost:8080/"
        },
        "id": "YqQT07EAF4Ji",
        "outputId": "bd67e377-5921-4e03-c28d-477cd6dd0dc5"
      },
      "outputs": [
        {
          "name": "stdout",
          "output_type": "stream",
          "text": [
            "a soma dele é: 9.2\n"
          ]
        }
      ],
      "source": [
        "num1 = float(input(\"numero 1: \"))\n",
        "num2 = float(input(\"numero 2: \"))\n",
        "\n",
        "if int(num1 + num2) == (num1 + num2):\n",
        "    num1 = int(num1)\n",
        "    num2 = int(num2)\n",
        "\n",
        "print(f\"a soma dele é: {num1 + num2}\")\n",
        "\n",
        "#   A = int(input(\"A: \"))\n",
        "#   B = int(input(\"B: \"))\n",
        "#   print(A + B)"
      ]
    },
    {
      "cell_type": "markdown",
      "metadata": {
        "id": "Dkoz_GN2GJir"
      },
      "source": [
        "## Problema 2\n",
        "Faça um algoritmo para ler três números e imprimir a soma, média e produto dos números lidos."
      ]
    },
    {
      "cell_type": "code",
      "execution_count": 53,
      "metadata": {
        "colab": {
          "base_uri": "https://localhost:8080/"
        },
        "id": "zISNhoI_GbWx",
        "outputId": "e469af6d-e194-4d22-a2ec-68ad0e364d7b"
      },
      "outputs": [
        {
          "name": "stdout",
          "output_type": "stream",
          "text": [
            "a soma, média e produto são 10, 3.3333333333333335, 20, respectivamente.\n"
          ]
        }
      ],
      "source": [
        "num1 = float(input(\"numero 1: \"))\n",
        "num2 = float(input(\"numero 2: \"))\n",
        "num3 = float(input(\"numero 3: \"))\n",
        "\n",
        "if int(num1) == num1:\n",
        "    num1 = int(num1)\n",
        "if int(num2) == num2:\n",
        "    num2 = int(num2)\n",
        "if int(num3) == num3:\n",
        "    num3 = int(num3)\n",
        "\n",
        "print(\n",
        "    f\"a soma, média e produto são {num1+num2+num3}, {(num1+num2+num3)/3}, {num1*num2*num3}, respectivamente.\")\n",
        "\n",
        "#   A = int(input(\"A: \"))\n",
        "#   B = int(input(\"B: \"))\n",
        "#   C = int(input(\"C: \"))\n",
        "#   print(A + B + C, (A + B + C)/3, A*B*C)"
      ]
    },
    {
      "cell_type": "markdown",
      "metadata": {
        "id": "7b_agQhSGd9C"
      },
      "source": [
        "## Problema 3\n",
        "Faça um algoritmo para ler dois números e imprimir o maior, o menor ou então dizer se são iguais."
      ]
    },
    {
      "cell_type": "code",
      "execution_count": 56,
      "metadata": {
        "colab": {
          "base_uri": "https://localhost:8080/"
        },
        "id": "Vr9JwY4zHRJy",
        "outputId": "3cec51ce-51dc-41f4-bbfb-015b39a37c3e"
      },
      "outputs": [
        {
          "name": "stdout",
          "output_type": "stream",
          "text": [
            "o maior é: 5 e o menor é:  2.1\n"
          ]
        }
      ],
      "source": [
        "num1 = float(input(\"numero 1: \"))\n",
        "num2 = float(input(\"numero 2: \"))\n",
        "\n",
        "if int(num1) == num1:\n",
        "    num1 = int(num1)\n",
        "if int(num2) == num2:\n",
        "    num2 = int(num2)\n",
        "\n",
        "if num1 == num2:\n",
        "       print(\"são iguais\")\n",
        "elif num1 > num2:\n",
        "       print(\"o maior é:\", num1, \"e o menor é: \", num2)\n",
        "else:\n",
        "       print(\"o maior é:\", num2, \"e o menor é: \", num1)\n",
        "\n",
        "\n",
        "#   a = int(input(\"A: \"))\n",
        "#   b = int(input(\"B: \"))\n",
        "#   \n",
        "#   if a == b:\n",
        "#       print(\"são iguais\")\n",
        "#   elif a > b:\n",
        "#       print(\"maior:\", a, \"menor: \", b)\n",
        "#   else:\n",
        "#       print(\"maior:\", b, \"menor:\", a)\n",
        "#"
      ]
    },
    {
      "cell_type": "markdown",
      "metadata": {
        "id": "G1c3kfqUGnLp"
      },
      "source": [
        "## Problema 4\n",
        "Faça um algoritmo para ler um número inteiro e dizer se o número lido é par ou impar."
      ]
    },
    {
      "cell_type": "code",
      "execution_count": 57,
      "metadata": {
        "colab": {
          "base_uri": "https://localhost:8080/"
        },
        "id": "1vTRqZOQHWu8",
        "outputId": "fc040710-41e9-4a59-e655-7f28717ec675"
      },
      "outputs": [
        {
          "name": "stdout",
          "output_type": "stream",
          "text": [
            "o número é: impar\n"
          ]
        }
      ],
      "source": [
        "number = int(input(\"número: \"))\n",
        "\n",
        "if ((number % 2) == 0):\n",
        "    resposta = \"par\"\n",
        "else: \n",
        "    resposta = \"impar\"\n",
        "\n",
        "print(f\"o número é: {resposta}\")\n",
        "\n",
        "#   a = int(input(\"A: \"))\n",
        "#\n",
        "#   if a % 2 == 0:\n",
        "#       print(\"par\")\n",
        "#   else:\n",
        "#       print(\"impar\")\n",
        "#"
      ]
    },
    {
      "cell_type": "markdown",
      "metadata": {
        "id": "wBYV6C6gGrg4"
      },
      "source": [
        "## Problema 5\n",
        "Faça um algoritmo para ler dois números A e B e dizer se A é divisível por B."
      ]
    },
    {
      "cell_type": "code",
      "execution_count": null,
      "metadata": {
        "colab": {
          "base_uri": "https://localhost:8080/"
        },
        "id": "M8Cgfqr8HZYM",
        "outputId": "e217ff70-1f38-4db4-d9ff-28634877a288"
      },
      "outputs": [],
      "source": [
        "a = int(input(\"a: \"))\n",
        "b = int(input(\"b: \"))\n",
        "x = int(a / b)\n",
        "y = a / b\n",
        "\n",
        "if x == y:\n",
        "    print(\"divisível\")\n",
        "else:\n",
        "    print(\"não divisível\")"
      ]
    },
    {
      "cell_type": "markdown",
      "metadata": {
        "id": "GjiBboK0Gs_e"
      },
      "source": [
        "## Problema 6\n",
        "Faça um algoritmo para ler dois números e imprimi-los em ordem crescente"
      ]
    },
    {
      "cell_type": "code",
      "execution_count": null,
      "metadata": {
        "colab": {
          "base_uri": "https://localhost:8080/"
        },
        "id": "kJQ2H85IHbKD",
        "outputId": "25937071-11ff-4694-bfec-ee55e94635a7"
      },
      "outputs": [],
      "source": [
        "a = int(input(\"a: \"))\n",
        "b = int(input(\"b: \"))\n",
        "\n",
        "if a != b:\n",
        "    if a < b:\n",
        "        print(a, b)\n",
        "    else:\n",
        "        print(b, a)\n",
        "else:\n",
        "    print(\"numeros iguais\")"
      ]
    },
    {
      "cell_type": "markdown",
      "metadata": {
        "id": "qNKIVpXHGuWY"
      },
      "source": [
        "## Problema 7\n",
        "Faça um algoritmo para ler três números e imprimir o maior"
      ]
    },
    {
      "cell_type": "code",
      "execution_count": null,
      "metadata": {
        "colab": {
          "base_uri": "https://localhost:8080/"
        },
        "id": "jXenFSURHbl5",
        "outputId": "37977cb1-0a21-4bf5-b222-8c7705b167db"
      },
      "outputs": [],
      "source": [
        "a = int(input(\"a: \"))\n",
        "b = int(input(\"b: \"))\n",
        "c = int(input(\"c: \"))\n",
        "\n",
        "if a > b and a > c:\n",
        "    print(a)\n",
        "if b > a and b > c:\n",
        "    print(b)\n",
        "if c > a and c > b:\n",
        "    print(b)\n"
      ]
    },
    {
      "cell_type": "markdown",
      "metadata": {
        "id": "kdVoOGzeGv2B"
      },
      "source": [
        "## Problema 8\n",
        "Faça um algoritmo para ler três números e imprimir se estes podem ou não formar um triângulo.\n"
      ]
    },
    {
      "cell_type": "code",
      "execution_count": null,
      "metadata": {
        "colab": {
          "base_uri": "https://localhost:8080/"
        },
        "id": "OZ0xiwLsHcBS",
        "outputId": "2c816a54-6c4b-4a53-f12c-d66c923e9130"
      },
      "outputs": [],
      "source": [
        "a = float(input(\"a: \"))\n",
        "b = float(input(\"b: \"))\n",
        "c = float(input(\"c: \"))\n",
        "\n",
        "if a < b + c and b < a + c and c < a + b:\n",
        "    print(\"é possível formar um triângulo,\")\n",
        "else:\n",
        "    print(\"não é possível um triângulo,\")\n",
        "\n"
      ]
    },
    {
      "cell_type": "markdown",
      "metadata": {},
      "source": [
        "## problema 9\n",
        "Faça um algoritmo para ler três números e se estes poderem formar um triângulo dizer se o triângulo é “EQUILÁTERO”, “ISÓSCELES” OU “ESCALENO”.\n"
      ]
    },
    {
      "cell_type": "code",
      "execution_count": null,
      "metadata": {},
      "outputs": [
        {
          "name": "stdout",
          "output_type": "stream",
          "text": [
            "É possível formar um triângulo,\n",
            "Ele é escaleno\n"
          ]
        }
      ],
      "source": [
        "a = float(input(\"a: \"))\n",
        "b = float(input(\"b: \"))\n",
        "c = float(input(\"c: \"))\n",
        "\n",
        "if a < b + c and b < a + c and c < a + b:\n",
        "    print(\"É possível formar um triângulo,\")\n",
        "    \n",
        "    if a == b == c:\n",
        "        print(\"Ele é equilátero\")\n",
        "    elif a == b or a == c or b == c:\n",
        "        print(\"Ele é isóceles\")\n",
        "    else:\n",
        "        print(\"Ele é escaleno\")\n",
        "        \n",
        "else:\n",
        "    print(\"não é possível um triângulo,\")\n",
        "\n",
        "\n"
      ]
    },
    {
      "cell_type": "markdown",
      "metadata": {},
      "source": [
        "## Problema 10\n",
        "Faça um algoritmo para ler o preço de compra de uma mercadoria e calcular o seu preço de venda para que possa ser obtido um lucro de 30%.\n"
      ]
    },
    {
      "cell_type": "code",
      "execution_count": null,
      "metadata": {},
      "outputs": [
        {
          "name": "stdout",
          "output_type": "stream",
          "text": [
            "O preço do produto deve ser: R$96.20 para ter lucro\n"
          ]
        }
      ],
      "source": [
        "price = float(input(\"Preço da mercadoria: \"))\n",
        "print(f\"O preço do produto deve ser: R${1.3 * price:.2f} para ter lucro\")\n",
        "\n",
        "\n",
        "#\n",
        "#   price = float(input())\n",
        "#   price_pull = 1.3 * price\n",
        "#   print(price_pull)\n",
        "#"
      ]
    },
    {
      "cell_type": "markdown",
      "metadata": {},
      "source": [
        "## Problema 11\n",
        "Faça um algoritmo para ler os catetos de um triângulo retângulo e calcular e imprimir a sua hipotenusa"
      ]
    },
    {
      "cell_type": "code",
      "execution_count": null,
      "metadata": {},
      "outputs": [
        {
          "ename": "ValueError",
          "evalue": "could not convert string to float: ''",
          "output_type": "error",
          "traceback": [
            "\u001b[1;31m---------------------------------------------------------------------------\u001b[0m",
            "\u001b[1;31mValueError\u001b[0m                                Traceback (most recent call last)",
            "Cell \u001b[1;32mIn[33], line 1\u001b[0m\n\u001b[1;32m----> 1\u001b[0m cateto1 \u001b[38;5;241m=\u001b[39m \u001b[38;5;28;43mfloat\u001b[39;49m\u001b[43m(\u001b[49m\u001b[38;5;28;43minput\u001b[39;49m\u001b[43m(\u001b[49m\u001b[38;5;124;43m\"\u001b[39;49m\u001b[38;5;124;43mcateto 1: \u001b[39;49m\u001b[38;5;124;43m\"\u001b[39;49m\u001b[43m)\u001b[49m\u001b[43m)\u001b[49m\n\u001b[0;32m      2\u001b[0m cateto2 \u001b[38;5;241m=\u001b[39m \u001b[38;5;28mfloat\u001b[39m(\u001b[38;5;28minput\u001b[39m(\u001b[38;5;124m\"\u001b[39m\u001b[38;5;124mcateto 2: \u001b[39m\u001b[38;5;124m\"\u001b[39m))\n\u001b[0;32m      3\u001b[0m \u001b[38;5;28mprint\u001b[39m(\u001b[38;5;124mf\u001b[39m\u001b[38;5;124m\"\u001b[39m\u001b[38;5;124mhipotenusa = \u001b[39m\u001b[38;5;132;01m{\u001b[39;00m(\u001b[38;5;241m1\u001b[39m\u001b[38;5;241m/\u001b[39m\u001b[38;5;241m2\u001b[39m)\u001b[38;5;241m*\u001b[39m((cateto1\u001b[38;5;250m \u001b[39m\u001b[38;5;241m*\u001b[39m\u001b[38;5;241m*\u001b[39m\u001b[38;5;250m \u001b[39m\u001b[38;5;241m2\u001b[39m)\u001b[38;5;250m \u001b[39m\u001b[38;5;241m+\u001b[39m\u001b[38;5;250m \u001b[39m(cateto2\u001b[38;5;250m \u001b[39m\u001b[38;5;241m*\u001b[39m\u001b[38;5;241m*\u001b[39m\u001b[38;5;250m \u001b[39m\u001b[38;5;241m2\u001b[39m))\u001b[38;5;132;01m}\u001b[39;00m\u001b[38;5;124m\"\u001b[39m)\n",
            "\u001b[1;31mValueError\u001b[0m: could not convert string to float: ''"
          ]
        }
      ],
      "source": [
        "cateto1 = float(input(\"cateto 1: \"))\n",
        "cateto2 = float(input(\"cateto 2: \"))\n",
        "print(f\"hipotenusa = {(1/2)*((cateto1 ** 2) + (cateto2 ** 2))}\")\n",
        "\n",
        "\n",
        "#\n",
        "#   cateto1 = float(input(\"cateto 1: \"))\n",
        "#   cateto2 = float(input(\"cateto 1: \"))\n",
        "#   hipotenusa = (1/2)*((cateto1 ** 2) + (cateto2 ** 2))\n",
        "#   print(hipotenusa)\n",
        "#\n"
      ]
    },
    {
      "cell_type": "markdown",
      "metadata": {},
      "source": [
        "## Problema 12\n",
        "Faça um algoritmo para ler o raio e calcular o comprimento, a área e o volume de uma esfera"
      ]
    },
    {
      "cell_type": "code",
      "execution_count": null,
      "metadata": {},
      "outputs": [
        {
          "name": "stdout",
          "output_type": "stream",
          "text": [
            "o comprimento, área e volume da esfera são: 31.42, 314.16e 523.60 respectivamente\n"
          ]
        }
      ],
      "source": [
        "import math\n",
        "raio = float(input(\"tamanho do raio: \"))\n",
        "print(\"o comprimento, área e volume da esfera são:\", end=\"\")\n",
        "print(f\" {2*math.pi*raio:.2f}, {4*math.pi*math.pow(raio, 2):.2f}e {4/3*math.pi*math.pow(raio, 3):.2f} respectivamente\")"
      ]
    }
  ],
  "metadata": {
    "colab": {
      "authorship_tag": "ABX9TyO7b4mSr+1KpXyIEcdZS3x/",
      "include_colab_link": true,
      "provenance": []
    },
    "kernelspec": {
      "display_name": "Python 3",
      "name": "python3"
    },
    "language_info": {
      "codemirror_mode": {
        "name": "ipython",
        "version": 3
      },
      "file_extension": ".py",
      "mimetype": "text/x-python",
      "name": "python",
      "nbconvert_exporter": "python",
      "pygments_lexer": "ipython3",
      "version": "3.12.3"
    }
  },
  "nbformat": 4,
  "nbformat_minor": 0
}
