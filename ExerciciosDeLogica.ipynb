{
  "cells": [
    {
      "cell_type": "markdown",
      "metadata": {
        "colab_type": "text",
        "id": "view-in-github"
      },
      "source": [
        "<a href=\"https://colab.research.google.com/github/osmozeInc/ProgramadorDeSistemas/blob/main/ExerciciosDeLogica.ipynb\" target=\"_parent\"><img src=\"https://colab.research.google.com/assets/colab-badge.svg\" alt=\"Open In Colab\"/></a>"
      ]
    },
    {
      "cell_type": "markdown",
      "metadata": {
        "id": "VXHEbAqhFqur"
      },
      "source": [
        "# Exercicíos de lógica com phyton"
      ]
    },
    {
      "cell_type": "markdown",
      "metadata": {},
      "source": [
        "## problema 1\n",
        "Faça um algoritmo para ler dois números e imprimir a soma dos números lidos:"
      ]
    },
    {
      "cell_type": "code",
      "execution_count": null,
      "metadata": {
        "colab": {
          "base_uri": "https://localhost:8080/"
        },
        "id": "YqQT07EAF4Ji",
        "outputId": "bd67e377-5921-4e03-c28d-477cd6dd0dc5"
      },
      "outputs": [
        {
          "ename": "KeyboardInterrupt",
          "evalue": "Interrupted by user",
          "output_type": "error",
          "traceback": [
            "\u001b[1;31m---------------------------------------------------------------------------\u001b[0m",
            "\u001b[1;31mKeyboardInterrupt\u001b[0m                         Traceback (most recent call last)",
            "Cell \u001b[1;32mIn[4], line 1\u001b[0m\n\u001b[1;32m----> 1\u001b[0m A \u001b[38;5;241m=\u001b[39m \u001b[38;5;28mint\u001b[39m(\u001b[38;5;28;43minput\u001b[39;49m\u001b[43m(\u001b[49m\u001b[38;5;124;43m\"\u001b[39;49m\u001b[38;5;124;43mA: \u001b[39;49m\u001b[38;5;124;43m\"\u001b[39;49m\u001b[43m)\u001b[49m)\n\u001b[0;32m      2\u001b[0m B \u001b[38;5;241m=\u001b[39m \u001b[38;5;28mint\u001b[39m(\u001b[38;5;28minput\u001b[39m(\u001b[38;5;124m\"\u001b[39m\u001b[38;5;124mB: \u001b[39m\u001b[38;5;124m\"\u001b[39m))\n\u001b[0;32m      3\u001b[0m \u001b[38;5;28mprint\u001b[39m(A \u001b[38;5;241m+\u001b[39m B)\n",
            "File \u001b[1;32m~\\AppData\\Local\\Packages\\PythonSoftwareFoundation.Python.3.12_qbz5n2kfra8p0\\LocalCache\\local-packages\\Python312\\site-packages\\ipykernel\\kernelbase.py:1282\u001b[0m, in \u001b[0;36mKernel.raw_input\u001b[1;34m(self, prompt)\u001b[0m\n\u001b[0;32m   1280\u001b[0m     msg \u001b[38;5;241m=\u001b[39m \u001b[38;5;124m\"\u001b[39m\u001b[38;5;124mraw_input was called, but this frontend does not support input requests.\u001b[39m\u001b[38;5;124m\"\u001b[39m\n\u001b[0;32m   1281\u001b[0m     \u001b[38;5;28;01mraise\u001b[39;00m StdinNotImplementedError(msg)\n\u001b[1;32m-> 1282\u001b[0m \u001b[38;5;28;01mreturn\u001b[39;00m \u001b[38;5;28;43mself\u001b[39;49m\u001b[38;5;241;43m.\u001b[39;49m\u001b[43m_input_request\u001b[49m\u001b[43m(\u001b[49m\n\u001b[0;32m   1283\u001b[0m \u001b[43m    \u001b[49m\u001b[38;5;28;43mstr\u001b[39;49m\u001b[43m(\u001b[49m\u001b[43mprompt\u001b[49m\u001b[43m)\u001b[49m\u001b[43m,\u001b[49m\n\u001b[0;32m   1284\u001b[0m \u001b[43m    \u001b[49m\u001b[38;5;28;43mself\u001b[39;49m\u001b[38;5;241;43m.\u001b[39;49m\u001b[43m_parent_ident\u001b[49m\u001b[43m[\u001b[49m\u001b[38;5;124;43m\"\u001b[39;49m\u001b[38;5;124;43mshell\u001b[39;49m\u001b[38;5;124;43m\"\u001b[39;49m\u001b[43m]\u001b[49m\u001b[43m,\u001b[49m\n\u001b[0;32m   1285\u001b[0m \u001b[43m    \u001b[49m\u001b[38;5;28;43mself\u001b[39;49m\u001b[38;5;241;43m.\u001b[39;49m\u001b[43mget_parent\u001b[49m\u001b[43m(\u001b[49m\u001b[38;5;124;43m\"\u001b[39;49m\u001b[38;5;124;43mshell\u001b[39;49m\u001b[38;5;124;43m\"\u001b[39;49m\u001b[43m)\u001b[49m\u001b[43m,\u001b[49m\n\u001b[0;32m   1286\u001b[0m \u001b[43m    \u001b[49m\u001b[43mpassword\u001b[49m\u001b[38;5;241;43m=\u001b[39;49m\u001b[38;5;28;43;01mFalse\u001b[39;49;00m\u001b[43m,\u001b[49m\n\u001b[0;32m   1287\u001b[0m \u001b[43m\u001b[49m\u001b[43m)\u001b[49m\n",
            "File \u001b[1;32m~\\AppData\\Local\\Packages\\PythonSoftwareFoundation.Python.3.12_qbz5n2kfra8p0\\LocalCache\\local-packages\\Python312\\site-packages\\ipykernel\\kernelbase.py:1325\u001b[0m, in \u001b[0;36mKernel._input_request\u001b[1;34m(self, prompt, ident, parent, password)\u001b[0m\n\u001b[0;32m   1322\u001b[0m \u001b[38;5;28;01mexcept\u001b[39;00m \u001b[38;5;167;01mKeyboardInterrupt\u001b[39;00m:\n\u001b[0;32m   1323\u001b[0m     \u001b[38;5;66;03m# re-raise KeyboardInterrupt, to truncate traceback\u001b[39;00m\n\u001b[0;32m   1324\u001b[0m     msg \u001b[38;5;241m=\u001b[39m \u001b[38;5;124m\"\u001b[39m\u001b[38;5;124mInterrupted by user\u001b[39m\u001b[38;5;124m\"\u001b[39m\n\u001b[1;32m-> 1325\u001b[0m     \u001b[38;5;28;01mraise\u001b[39;00m \u001b[38;5;167;01mKeyboardInterrupt\u001b[39;00m(msg) \u001b[38;5;28;01mfrom\u001b[39;00m \u001b[38;5;28;01mNone\u001b[39;00m\n\u001b[0;32m   1326\u001b[0m \u001b[38;5;28;01mexcept\u001b[39;00m \u001b[38;5;167;01mException\u001b[39;00m:\n\u001b[0;32m   1327\u001b[0m     \u001b[38;5;28mself\u001b[39m\u001b[38;5;241m.\u001b[39mlog\u001b[38;5;241m.\u001b[39mwarning(\u001b[38;5;124m\"\u001b[39m\u001b[38;5;124mInvalid Message:\u001b[39m\u001b[38;5;124m\"\u001b[39m, exc_info\u001b[38;5;241m=\u001b[39m\u001b[38;5;28;01mTrue\u001b[39;00m)\n",
            "\u001b[1;31mKeyboardInterrupt\u001b[0m: Interrupted by user"
          ]
        }
      ],
      "source": [
        "A = int(input(\"A: \"))\n",
        "B = int(input(\"B: \"))\n",
        "print(A + B)"
      ]
    },
    {
      "cell_type": "markdown",
      "metadata": {
        "id": "Dkoz_GN2GJir"
      },
      "source": [
        "## Problema 2\n",
        "Faça um algoritmo para ler três números e imprimir a soma, média e produto dos números lidos."
      ]
    },
    {
      "cell_type": "code",
      "execution_count": null,
      "metadata": {
        "colab": {
          "base_uri": "https://localhost:8080/"
        },
        "id": "zISNhoI_GbWx",
        "outputId": "e469af6d-e194-4d22-a2ec-68ad0e364d7b"
      },
      "outputs": [],
      "source": [
        "A = int(input(\"A: \"))\n",
        "B = int(input(\"B: \"))\n",
        "C = int(input(\"C: \"))\n",
        "# print(A + B + C, (A + B + C)/3, A*B*C)\n",
        "print(\n",
        "    f'A soma é: {A + B + C}, \\nA média é {(A + B + C)/3},\\ne o produto é: {A*B*C}')"
      ]
    },
    {
      "cell_type": "markdown",
      "metadata": {
        "id": "7b_agQhSGd9C"
      },
      "source": [
        "## Problema 3\n",
        "Faça um algoritmo para ler dois números e imprimir o maior, o menor ou então dizer se são iguais."
      ]
    },
    {
      "cell_type": "code",
      "execution_count": null,
      "metadata": {
        "colab": {
          "base_uri": "https://localhost:8080/"
        },
        "id": "Vr9JwY4zHRJy",
        "outputId": "3cec51ce-51dc-41f4-bbfb-015b39a37c3e"
      },
      "outputs": [],
      "source": [
        "a = int(input(\"A: \"))\n",
        "b = int(input(\"B: \"))\n",
        "\n",
        "if a == b:\n",
        "    print(\"são iguais\")\n",
        "elif a > b:\n",
        "    print(\"maior:\", a, \"menor: \", b)\n",
        "else:\n",
        "    print(\"maior:\", b, \"menor:\", a)"
      ]
    },
    {
      "cell_type": "markdown",
      "metadata": {
        "id": "G1c3kfqUGnLp"
      },
      "source": [
        "## Problema 4\n",
        "Faça um algoritmo para ler um número inteiro e dizer se o número lido é par ou impar."
      ]
    },
    {
      "cell_type": "code",
      "execution_count": null,
      "metadata": {
        "colab": {
          "base_uri": "https://localhost:8080/"
        },
        "id": "1vTRqZOQHWu8",
        "outputId": "fc040710-41e9-4a59-e655-7f28717ec675"
      },
      "outputs": [],
      "source": [
        "a = int(input(\"A: \"))\n",
        "\n",
        "if a % 2 == 0:\n",
        "    print(\"par\")\n",
        "else:\n",
        "    print(\"impar\")"
      ]
    },
    {
      "cell_type": "markdown",
      "metadata": {
        "id": "wBYV6C6gGrg4"
      },
      "source": [
        "## Problema 5\n",
        "Faça um algoritmo para ler dois números A e B e dizer se A é divisível por B."
      ]
    },
    {
      "cell_type": "code",
      "execution_count": null,
      "metadata": {
        "colab": {
          "base_uri": "https://localhost:8080/"
        },
        "id": "M8Cgfqr8HZYM",
        "outputId": "e217ff70-1f38-4db4-d9ff-28634877a288"
      },
      "outputs": [],
      "source": [
        "a = int(input(\"a: \"))\n",
        "b = int(input(\"b: \"))\n",
        "x = int(a / b)\n",
        "y = a / b\n",
        "\n",
        "if x == y:\n",
        "    print(\"divisível\")\n",
        "else:\n",
        "    print(\"não divisível\")"
      ]
    },
    {
      "cell_type": "markdown",
      "metadata": {
        "id": "GjiBboK0Gs_e"
      },
      "source": [
        "## Problema 6\n",
        "Faça um algoritmo para ler dois números e imprimi-los em ordem crescente"
      ]
    },
    {
      "cell_type": "code",
      "execution_count": null,
      "metadata": {
        "colab": {
          "base_uri": "https://localhost:8080/"
        },
        "id": "kJQ2H85IHbKD",
        "outputId": "25937071-11ff-4694-bfec-ee55e94635a7"
      },
      "outputs": [],
      "source": [
        "a = int(input(\"a: \"))\n",
        "b = int(input(\"b: \"))\n",
        "\n",
        "if a != b:\n",
        "    if a < b:\n",
        "        print(a, b)\n",
        "    else:\n",
        "        print(b, a)\n",
        "else:\n",
        "    print(\"numeros iguais\")"
      ]
    },
    {
      "cell_type": "markdown",
      "metadata": {
        "id": "qNKIVpXHGuWY"
      },
      "source": [
        "## Problema 7\n",
        "Faça um algoritmo para ler três números e imprimir o maior"
      ]
    },
    {
      "cell_type": "code",
      "execution_count": null,
      "metadata": {
        "colab": {
          "base_uri": "https://localhost:8080/"
        },
        "id": "jXenFSURHbl5",
        "outputId": "37977cb1-0a21-4bf5-b222-8c7705b167db"
      },
      "outputs": [],
      "source": [
        "a = int(input(\"a: \"))\n",
        "b = int(input(\"b: \"))\n",
        "c = int(input(\"c: \"))\n",
        "\n",
        "if a > b and a > c:\n",
        "    print(a)\n",
        "if b > a and b > c:\n",
        "    print(b)\n",
        "if c > a and c > b:\n",
        "    print(b)\n"
      ]
    },
    {
      "cell_type": "markdown",
      "metadata": {
        "id": "kdVoOGzeGv2B"
      },
      "source": [
        "## Problema 8\n",
        "Faça um algoritmo para ler três números e imprimir se estes podem ou não formar um triângulo.\n"
      ]
    },
    {
      "cell_type": "code",
      "execution_count": null,
      "metadata": {
        "colab": {
          "base_uri": "https://localhost:8080/"
        },
        "id": "OZ0xiwLsHcBS",
        "outputId": "2c816a54-6c4b-4a53-f12c-d66c923e9130"
      },
      "outputs": [],
      "source": [
        "a = float(input(\"a: \"))\n",
        "b = float(input(\"b: \"))\n",
        "c = float(input(\"c: \"))\n",
        "\n",
        "if a < b + c and b < a + c and c < a + b:\n",
        "    print(\"é possível formar um triângulo,\")\n",
        "else:\n",
        "    print(\"não é possível um triângulo,\")\n",
        "\n"
      ]
    },
    {
      "cell_type": "markdown",
      "metadata": {},
      "source": [
        "## problema 9\n",
        "Faça um algoritmo para ler três números e se estes poderem formar um triângulo dizer se o triângulo é “EQUILÁTERO”, “ISÓSCELES” OU “ESCALENO”.\n"
      ]
    },
    {
      "cell_type": "code",
      "execution_count": null,
      "metadata": {},
      "outputs": [
        {
          "name": "stdout",
          "output_type": "stream",
          "text": [
            "É possível formar um triângulo,\n",
            "Ele é escaleno\n"
          ]
        }
      ],
      "source": [
        "a = float(input(\"a: \"))\n",
        "b = float(input(\"b: \"))\n",
        "c = float(input(\"c: \"))\n",
        "\n",
        "if a < b + c and b < a + c and c < a + b:\n",
        "    print(\"É possível formar um triângulo,\")\n",
        "    \n",
        "    if a == b == c:\n",
        "        print(\"Ele é equilátero\")\n",
        "    elif a == b or a == c or b == c:\n",
        "        print(\"Ele é isóceles\")\n",
        "    else:\n",
        "        print(\"Ele é escaleno\")\n",
        "        \n",
        "else:\n",
        "    print(\"não é possível um triângulo,\")\n",
        "\n",
        "\n"
      ]
    }
  ],
  "metadata": {
    "colab": {
      "authorship_tag": "ABX9TyO7b4mSr+1KpXyIEcdZS3x/",
      "include_colab_link": true,
      "provenance": []
    },
    "kernelspec": {
      "display_name": "Python 3",
      "name": "python3"
    },
    "language_info": {
      "codemirror_mode": {
        "name": "ipython",
        "version": 3
      },
      "file_extension": ".py",
      "mimetype": "text/x-python",
      "name": "python",
      "nbconvert_exporter": "python",
      "pygments_lexer": "ipython3",
      "version": "3.12.3"
    }
  },
  "nbformat": 4,
  "nbformat_minor": 0
}
