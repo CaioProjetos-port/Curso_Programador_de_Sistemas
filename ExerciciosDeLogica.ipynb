{
  "nbformat": 4,
  "nbformat_minor": 0,
  "metadata": {
    "colab": {
      "provenance": [],
      "authorship_tag": "ABX9TyO7b4mSr+1KpXyIEcdZS3x/",
      "include_colab_link": true
    },
    "kernelspec": {
      "name": "python3",
      "display_name": "Python 3"
    },
    "language_info": {
      "name": "python"
    }
  },
  "cells": [
    {
      "cell_type": "markdown",
      "metadata": {
        "id": "view-in-github",
        "colab_type": "text"
      },
      "source": [
        "<a href=\"https://colab.research.google.com/github/osmozeInc/ProgramadorDeSistemas/blob/main/ExerciciosDeLogica.ipynb\" target=\"_parent\"><img src=\"https://colab.research.google.com/assets/colab-badge.svg\" alt=\"Open In Colab\"/></a>"
      ]
    },
    {
      "cell_type": "markdown",
      "source": [
        "#Problema 1\n",
        "Faça um algoritmo para ler dois números e imprimir a soma dos números lidos:"
      ],
      "metadata": {
        "id": "VXHEbAqhFqur"
      }
    },
    {
      "cell_type": "code",
      "source": [
        "A = int(input(\"A: \"))\n",
        "B = int(input(\"B: \"))\n",
        "print(A + B)"
      ],
      "metadata": {
        "colab": {
          "base_uri": "https://localhost:8080/"
        },
        "id": "YqQT07EAF4Ji",
        "outputId": "bd67e377-5921-4e03-c28d-477cd6dd0dc5"
      },
      "execution_count": 1,
      "outputs": [
        {
          "output_type": "stream",
          "name": "stdout",
          "text": [
            "A: 50\n",
            "B: 20\n",
            "70\n"
          ]
        }
      ]
    },
    {
      "cell_type": "markdown",
      "source": [
        "#Problema 2\n",
        "Faça um algoritmo para ler três números e imprimir a soma, média e produto dos números lidos."
      ],
      "metadata": {
        "id": "Dkoz_GN2GJir"
      }
    },
    {
      "cell_type": "code",
      "source": [
        "A = int(input(\"A: \"))\n",
        "B = int(input(\"B: \"))\n",
        "C = int(input(\"C: \"))\n",
        "print(A + B + C, (A + B + C)/3, A*B*C)"
      ],
      "metadata": {
        "colab": {
          "base_uri": "https://localhost:8080/"
        },
        "id": "zISNhoI_GbWx",
        "outputId": "e469af6d-e194-4d22-a2ec-68ad0e364d7b"
      },
      "execution_count": 4,
      "outputs": [
        {
          "output_type": "stream",
          "name": "stdout",
          "text": [
            "A: 5\n",
            "B: 8\n",
            "C: 8\n",
            "21 7.0 320\n"
          ]
        }
      ]
    },
    {
      "cell_type": "markdown",
      "source": [
        "#Problema 3\n",
        "Faça um algoritmo para ler dois números e imprimir o maior, o menor ou então dizer se são iguais."
      ],
      "metadata": {
        "id": "7b_agQhSGd9C"
      }
    },
    {
      "cell_type": "code",
      "source": [
        "a = int(input(\"A: \"))\n",
        "b = int(input(\"B: \"))\n",
        "\n",
        "if a == b:\n",
        "    print(\"são iguais\")\n",
        "elif a > b:\n",
        "    print(\"maior:\", a, \"menor: \", b)\n",
        "else:\n",
        "    print(\"maior:\", b, \"menor:\", a)"
      ],
      "metadata": {
        "colab": {
          "base_uri": "https://localhost:8080/"
        },
        "id": "Vr9JwY4zHRJy",
        "outputId": "3cec51ce-51dc-41f4-bbfb-015b39a37c3e"
      },
      "execution_count": 5,
      "outputs": [
        {
          "output_type": "stream",
          "name": "stdout",
          "text": [
            "A: 5\n",
            "B: 5\n",
            "são iguais\n"
          ]
        }
      ]
    },
    {
      "cell_type": "markdown",
      "source": [
        "#Problema 4\n",
        "Faça um algoritmo para ler um número inteiro e dizer se o número lido é par ou impar."
      ],
      "metadata": {
        "id": "G1c3kfqUGnLp"
      }
    },
    {
      "cell_type": "code",
      "source": [
        "a = int(input(\"A: \"))\n",
        "\n",
        "if a % 2 == 0:\n",
        "    print(\"par\")\n",
        "else:\n",
        "    print(\"impar\")"
      ],
      "metadata": {
        "colab": {
          "base_uri": "https://localhost:8080/"
        },
        "id": "1vTRqZOQHWu8",
        "outputId": "fc040710-41e9-4a59-e655-7f28717ec675"
      },
      "execution_count": 6,
      "outputs": [
        {
          "output_type": "stream",
          "name": "stdout",
          "text": [
            "A: 5\n",
            "impar\n"
          ]
        }
      ]
    },
    {
      "cell_type": "markdown",
      "source": [
        "#Problema 5\n",
        "Faça um algoritmo para ler dois números A e B e dizer se A é divisível por B."
      ],
      "metadata": {
        "id": "wBYV6C6gGrg4"
      }
    },
    {
      "cell_type": "code",
      "source": [
        "a = int(input(\"a: \"))\n",
        "b = int(input(\"b: \"))\n",
        "x = int(a / b)\n",
        "y = a / b\n",
        "\n",
        "if x == y:\n",
        "    print(\"divisível\")\n",
        "else:\n",
        "    print(\"não divisível\")"
      ],
      "metadata": {
        "colab": {
          "base_uri": "https://localhost:8080/"
        },
        "id": "M8Cgfqr8HZYM",
        "outputId": "e217ff70-1f38-4db4-d9ff-28634877a288"
      },
      "execution_count": 7,
      "outputs": [
        {
          "output_type": "stream",
          "name": "stdout",
          "text": [
            "a: 5\n",
            "b: 2\n",
            "não divisível\n"
          ]
        }
      ]
    },
    {
      "cell_type": "markdown",
      "source": [
        "#Problema 6\n",
        "Faça um algoritmo para ler dois números e imprimi-los em ordem crescente"
      ],
      "metadata": {
        "id": "GjiBboK0Gs_e"
      }
    },
    {
      "cell_type": "code",
      "source": [
        "a = int(input(\"a: \"))\n",
        "b = int(input(\"b: \"))\n",
        "\n",
        "if a != b:\n",
        "    if a < b:\n",
        "        print(a, b)\n",
        "    else:\n",
        "        print(b, a)\n",
        "else:\n",
        "    print(\"numeros iguais\")"
      ],
      "metadata": {
        "colab": {
          "base_uri": "https://localhost:8080/"
        },
        "id": "kJQ2H85IHbKD",
        "outputId": "25937071-11ff-4694-bfec-ee55e94635a7"
      },
      "execution_count": 10,
      "outputs": [
        {
          "output_type": "stream",
          "name": "stdout",
          "text": [
            "a: 20\n",
            "b: 5\n",
            "5 20\n"
          ]
        }
      ]
    },
    {
      "cell_type": "markdown",
      "source": [
        "#Problema 7\n",
        "Faça um algoritmo para ler três números e imprimir o maior"
      ],
      "metadata": {
        "id": "qNKIVpXHGuWY"
      }
    },
    {
      "cell_type": "code",
      "source": [
        "a = int(input(\"a: \"))\n",
        "b = int(input(\"b: \"))\n",
        "c = int(input(\"c: \"))\n",
        "\n",
        "if a > b and a > c:\n",
        "    print(a)\n",
        "if b > a and b > c:\n",
        "    print(b)\n",
        "if c > a and c > b:\n",
        "    print(b)\n"
      ],
      "metadata": {
        "colab": {
          "base_uri": "https://localhost:8080/"
        },
        "id": "jXenFSURHbl5",
        "outputId": "37977cb1-0a21-4bf5-b222-8c7705b167db"
      },
      "execution_count": 11,
      "outputs": [
        {
          "output_type": "stream",
          "name": "stdout",
          "text": [
            "a: 5\n",
            "b: 12\n",
            "c: 8\n",
            "12\n"
          ]
        }
      ]
    },
    {
      "cell_type": "markdown",
      "source": [
        "#Problema 8\n",
        "Faça um algoritmo para ler três números e imprimir se estes podem ou não formar um triângulo.\n"
      ],
      "metadata": {
        "id": "kdVoOGzeGv2B"
      }
    },
    {
      "cell_type": "code",
      "source": [
        "a = float(input(\"a: \"))\n",
        "b = float(input(\"b: \"))\n",
        "c = float(input(\"c: \"))\n",
        "x = 0\n",
        "\n",
        "if a < b + c:\n",
        "    if b < a + c:\n",
        "        if c < a + b:\n",
        "            print(\"é possível\")\n",
        "            x = 1\n",
        "if x == 0:\n",
        "    print(\"não é possível\")\n"
      ],
      "metadata": {
        "colab": {
          "base_uri": "https://localhost:8080/"
        },
        "id": "OZ0xiwLsHcBS",
        "outputId": "2c816a54-6c4b-4a53-f12c-d66c923e9130"
      },
      "execution_count": 12,
      "outputs": [
        {
          "output_type": "stream",
          "name": "stdout",
          "text": [
            "a: 12\n",
            "b: 5\n",
            "c: 9\n",
            "é possível\n"
          ]
        }
      ]
    }
  ]
}