{
  "nbformat": 4,
  "nbformat_minor": 0,
  "metadata": {
    "colab": {
      "provenance": [],
      "collapsed_sections": [
        "tquWg_2hYhWn",
        "BLdZ1x_mZY3h"
      ],
      "authorship_tag": "ABX9TyP5aIb5UfrJo4AIV5SFMFjG",
      "include_colab_link": true
    },
    "kernelspec": {
      "name": "python3",
      "display_name": "Python 3"
    },
    "language_info": {
      "name": "python"
    }
  },
  "cells": [
    {
      "cell_type": "markdown",
      "metadata": {
        "id": "view-in-github",
        "colab_type": "text"
      },
      "source": [
        "<a href=\"https://colab.research.google.com/github/osmozeInc/ProgramadorDeSistemas/blob/main/ExerciciosDeRepeticao.ipynb\" target=\"_parent\"><img src=\"https://colab.research.google.com/assets/colab-badge.svg\" alt=\"Open In Colab\"/></a>"
      ]
    },
    {
      "cell_type": "markdown",
      "source": [
        "# Exercícios de Repetição\n",
        "com phyton"
      ],
      "metadata": {
        "id": "cf7-1OqNYKPa"
      }
    },
    {
      "cell_type": "markdown",
      "source": [
        "## Problema 1\n",
        "Escreva um programa que imprima todos os números pares de 0 a 20."
      ],
      "metadata": {
        "id": "tquWg_2hYhWn"
      }
    },
    {
      "cell_type": "code",
      "source": [
        "for i in range(0, 21, 2):\n",
        "  print(i)"
      ],
      "metadata": {
        "colab": {
          "base_uri": "https://localhost:8080/"
        },
        "id": "12G6z5HkYfYg",
        "outputId": "5817284f-d48e-44f8-d9c9-6ccb6a0974b8"
      },
      "execution_count": 5,
      "outputs": [
        {
          "output_type": "stream",
          "name": "stdout",
          "text": [
            "0\n",
            "2\n",
            "4\n",
            "6\n",
            "8\n",
            "10\n",
            "12\n",
            "14\n",
            "16\n",
            "18\n",
            "20\n"
          ]
        }
      ]
    },
    {
      "cell_type": "markdown",
      "source": [
        "## Problema 2\n",
        "Escreva um programa que peça ao usuário para digitar um número inteiro positivo e calcule a soma de todos os números ímpares de 1 até esse número."
      ],
      "metadata": {
        "id": "BLdZ1x_mZY3h"
      }
    },
    {
      "cell_type": "code",
      "source": [
        "print(\"digite um número:\")\n",
        "numeroMax = int(input())\n",
        "soma = 0\n",
        "\n",
        "for i in range(1, numeroMax + 1, 2):\n",
        "  soma += i\n",
        "print(f\"soma de todos os número ímpares até {numeroMax}. soma = {soma}\")"
      ],
      "metadata": {
        "colab": {
          "base_uri": "https://localhost:8080/"
        },
        "id": "ZrNsmspMZqow",
        "outputId": "de0c558f-b516-4b4c-cd50-902a08c9cee3"
      },
      "execution_count": 8,
      "outputs": [
        {
          "output_type": "stream",
          "name": "stdout",
          "text": [
            "digite um número:\n",
            "7\n",
            "soma de todos os número ímpares até 7. soma = 16\n"
          ]
        }
      ]
    },
    {
      "cell_type": "markdown",
      "source": [
        "## Problema 3\n",
        "Escreva um programa que peça ao usuário para digitar uma frase e conte quantas vogais (a, e, i, o, u) ela possui"
      ],
      "metadata": {
        "id": "6E0fc2xqbZ_e"
      }
    },
    {
      "cell_type": "code",
      "source": [
        "frase = input(\"digite uma frase: \")\n",
        "vogais = \"aeiou\"\n",
        "quantidade = 0\n",
        "\n",
        "for letra in frase:\n",
        "  if letra.lower() in vogais:\n",
        "    quantidade += 1\n",
        "\n",
        "print(f\"essa frase tem {quantidade} vogais.\")"
      ],
      "metadata": {
        "colab": {
          "base_uri": "https://localhost:8080/"
        },
        "id": "JGc3QBblbkwj",
        "outputId": "0c514614-cf1f-4eb3-f00c-d0bb45c688b1"
      },
      "execution_count": 11,
      "outputs": [
        {
          "output_type": "stream",
          "name": "stdout",
          "text": [
            "digite uma frase: oi eu sou caio\n",
            "essa frase tem 9 vogais.\n"
          ]
        }
      ]
    },
    {
      "cell_type": "markdown",
      "source": [
        "## Problema 4\n",
        "Escreva um programa que peça ao usuário para digitar uma lista de números e imprima o maior número da lista.\n",
        "\n"
      ],
      "metadata": {
        "id": "mYeHLtI_cpMs"
      }
    },
    {
      "cell_type": "code",
      "source": [
        "lista = input(\"escreva uma lista de numeros \\nexemplo: 5, 6, 7, 8: \\nlista: \")\n",
        "lista = lista.split(\",\")\n",
        "maior = int(lista[0])\n",
        "\n",
        "for numero in lista:\n",
        "  if int(numero) > maior:\n",
        "    maior = numero\n",
        "print(\"maior numero dessa lista é\", maior)"
      ],
      "metadata": {
        "colab": {
          "base_uri": "https://localhost:8080/"
        },
        "id": "wHX3fe5zcxE0",
        "outputId": "9b6fd1f0-83af-4aba-8fa4-ed0e8543f8a5"
      },
      "execution_count": 33,
      "outputs": [
        {
          "output_type": "stream",
          "name": "stdout",
          "text": [
            "escreva uma lista de numeros \n",
            "exemplo: 5, 6, 7, 8: \n",
            "lista: 5, 2, 20\n",
            "maior numero dessa lista é  20\n"
          ]
        }
      ]
    },
    {
      "cell_type": "markdown",
      "source": [
        "## Problema 5\n",
        "Escreva um programa que peça ao usuário para digitar uma palavra e imprima a palavra invertida.\n",
        "\n"
      ],
      "metadata": {
        "id": "s9-w40KZiKVM"
      }
    },
    {
      "cell_type": "code",
      "source": [],
      "metadata": {
        "id": "31p29NTQiOoF"
      },
      "execution_count": null,
      "outputs": []
    }
  ]
}